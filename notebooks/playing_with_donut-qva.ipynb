{
 "cells": [
  {
   "cell_type": "code",
   "execution_count": 1,
   "id": "c168a839",
   "metadata": {},
   "outputs": [
    {
     "name": "stderr",
     "output_type": "stream",
     "text": [
      "/Users/DocWeaver/.pyenv/versions/3.8.13/envs/marker_env/lib/python3.8/site-packages/tqdm/auto.py:21: TqdmWarning: IProgress not found. Please update jupyter and ipywidgets. See https://ipywidgets.readthedocs.io/en/stable/user_install.html\n",
      "  from .autonotebook import tqdm as notebook_tqdm\n"
     ]
    }
   ],
   "source": [
    "import re\n",
    "\n",
    "from datasets import load_dataset\n",
    "from transformers import DonutProcessor, VisionEncoderDecoderModel\n",
    "import torch\n",
    "from PIL import Image\n"
   ]
  },
  {
   "cell_type": "code",
   "execution_count": null,
   "id": "19ab1484",
   "metadata": {},
   "outputs": [],
   "source": []
  },
  {
   "cell_type": "code",
   "execution_count": 2,
   "id": "13f7bfa5",
   "metadata": {},
   "outputs": [
    {
     "name": "stderr",
     "output_type": "stream",
     "text": [
      "Could not find image processor class in the image processor config or the model config. Loading based on pattern matching with the model's feature extractor configuration.\n"
     ]
    }
   ],
   "source": [
    "processor = DonutProcessor.from_pretrained(\"naver-clova-ix/donut-base-finetuned-docvqa\")\n",
    "model = VisionEncoderDecoderModel.from_pretrained(\"naver-clova-ix/donut-base-finetuned-docvqa\")"
   ]
  },
  {
   "cell_type": "code",
   "execution_count": 3,
   "id": "443c5359",
   "metadata": {},
   "outputs": [],
   "source": [
    "device = \"cuda\" if torch.cuda.is_available() else \"cpu\"\n",
    "model.to(device);"
   ]
  },
  {
   "cell_type": "code",
   "execution_count": 31,
   "id": "e2020aa9",
   "metadata": {},
   "outputs": [],
   "source": [
    "def process_document(image, question):\n",
    "    # prepare encoder inputs\n",
    "    pixel_values = processor(image, return_tensors=\"pt\").pixel_values\n",
    "    print(pixel_values.shape)\n",
    "    \n",
    "    # prepare decoder inputs\n",
    "    task_prompt = \"<s_docvqa><s_question>{user_input}</s_question><s_answer>\"\n",
    "    prompt = task_prompt.replace(\"{user_input}\", question)\n",
    "    decoder_input_ids = processor.tokenizer(prompt, add_special_tokens=False, return_tensors=\"pt\").input_ids\n",
    "          \n",
    "    # generate answer\n",
    "    outputs = model.generate(\n",
    "        pixel_values.to(device),\n",
    "        decoder_input_ids=decoder_input_ids.to(device),\n",
    "        max_length=model.decoder.config.max_position_embeddings,\n",
    "        early_stopping=True,\n",
    "        pad_token_id=processor.tokenizer.pad_token_id,\n",
    "        eos_token_id=processor.tokenizer.eos_token_id,\n",
    "        use_cache=True,\n",
    "        num_beams=1,\n",
    "        bad_words_ids=[[processor.tokenizer.unk_token_id]],\n",
    "        return_dict_in_generate=True,\n",
    "    )\n",
    "    \n",
    "    # postprocess\n",
    "    sequence = processor.batch_decode(outputs.sequences)[0]\n",
    "    sequence = sequence.replace(processor.tokenizer.eos_token, \"\").replace(processor.tokenizer.pad_token, \"\")\n",
    "    sequence = re.sub(r\"<.*?>\", \"\", sequence, count=1).strip()  # remove first task start token\n",
    "    \n",
    "    return processor.token2json(sequence)"
   ]
  },
  {
   "cell_type": "code",
   "execution_count": null,
   "id": "2da1bd5b",
   "metadata": {},
   "outputs": [],
   "source": [
    "\n"
   ]
  },
  {
   "cell_type": "code",
   "execution_count": 38,
   "id": "ead124dc",
   "metadata": {},
   "outputs": [],
   "source": [
    "file = \"../completed_test_scans/Scanned Image.png\"\n",
    "img = Image.open(file)\n",
    "img = img.convert(\"RGB\")\n",
    "img = img.resize((400,440),Image.LANCZOS)\n"
   ]
  },
  {
   "cell_type": "code",
   "execution_count": 39,
   "id": "376c1178",
   "metadata": {},
   "outputs": [
    {
     "data": {
      "text/plain": [
       "(400, 440)"
      ]
     },
     "execution_count": 39,
     "metadata": {},
     "output_type": "execute_result"
    }
   ],
   "source": [
    "img.size"
   ]
  },
  {
   "cell_type": "code",
   "execution_count": 40,
   "id": "4670ba33",
   "metadata": {},
   "outputs": [
    {
     "name": "stdout",
     "output_type": "stream",
     "text": [
      "torch.Size([1, 3, 2560, 1920])\n"
     ]
    },
    {
     "data": {
      "text/plain": [
       "{'question': 'name?', 'answer': 'tom'}"
      ]
     },
     "execution_count": 40,
     "metadata": {},
     "output_type": "execute_result"
    }
   ],
   "source": [
    "process_document(img, \"name?\")"
   ]
  },
  {
   "cell_type": "code",
   "execution_count": 37,
   "id": "3f6b8be0",
   "metadata": {},
   "outputs": [
    {
     "name": "stdout",
     "output_type": "stream",
     "text": [
      "torch.Size([1, 3, 2560, 1920])\n"
     ]
    },
    {
     "data": {
      "text/plain": [
       "{'question': 'name?', 'answer': 'tom'}"
      ]
     },
     "execution_count": 37,
     "metadata": {},
     "output_type": "execute_result"
    }
   ],
   "source": [
    "process_document(img, \"name?\")"
   ]
  },
  {
   "cell_type": "code",
   "execution_count": 12,
   "id": "c67512d0",
   "metadata": {},
   "outputs": [
    {
     "data": {
      "text/plain": [
       "{'question': 'Is Lemon Juice an Acid or a Base', 'answer': 'acid'}"
      ]
     },
     "execution_count": 12,
     "metadata": {},
     "output_type": "execute_result"
    }
   ],
   "source": [
    "process_document(img, \"Is Lemon Juice an Acid or a Base\")"
   ]
  },
  {
   "cell_type": "code",
   "execution_count": 18,
   "id": "6ba635fe",
   "metadata": {},
   "outputs": [
    {
     "data": {
      "text/plain": [
       "{'question': 'What colour does universal indicator turn in ph 2?',\n",
       " 'answer': 'red'}"
      ]
     },
     "execution_count": 18,
     "metadata": {},
     "output_type": "execute_result"
    }
   ],
   "source": [
    "process_document(img, \"What colour does universal indicator turn in ph 2?\")"
   ]
  },
  {
   "cell_type": "code",
   "execution_count": 15,
   "id": "9c2e3c5e",
   "metadata": {},
   "outputs": [
    {
     "data": {
      "text/plain": [
       "{'question': 'ph 2?', 'answer': 'red'}"
      ]
     },
     "execution_count": 15,
     "metadata": {},
     "output_type": "execute_result"
    }
   ],
   "source": [
    "process_document(img, \"ph 2?\")"
   ]
  },
  {
   "cell_type": "code",
   "execution_count": 43,
   "id": "b2d03c89",
   "metadata": {},
   "outputs": [
    {
     "name": "stdout",
     "output_type": "stream",
     "text": [
      "torch.Size([1, 3, 2560, 1920])\n"
     ]
    }
   ],
   "source": [
    "pixel_values = processor(img, return_tensors=\"pt\").pixel_values\n",
    "print(pixel_values.shape)\n"
   ]
  },
  {
   "cell_type": "code",
   "execution_count": 44,
   "id": "59cdee2f",
   "metadata": {},
   "outputs": [],
   "source": [
    "question = \"name?\""
   ]
  },
  {
   "cell_type": "code",
   "execution_count": 51,
   "id": "aefa2c59",
   "metadata": {},
   "outputs": [],
   "source": [
    "# prepare decoder inputs\n",
    "task_prompt = \"<s_docvqa><s_question>{user_input}</s_question><s_answer>\"\n",
    "prompt = task_prompt.replace(\"{user_input}\", question)\n",
    "decoder_input_ids = processor.tokenizer(prompt, add_special_tokens=False, return_tensors=\"pt\").input_ids"
   ]
  },
  {
   "cell_type": "code",
   "execution_count": 52,
   "id": "5729dd24",
   "metadata": {},
   "outputs": [],
   "source": [
    "  # generate answer\n",
    "outputs = model.generate(\n",
    "                    pixel_values.to(device),\n",
    "                    decoder_input_ids=decoder_input_ids.to(device),\n",
    "                    max_length=model.decoder.config.max_position_embeddings,\n",
    "                    early_stopping=True,\n",
    "                    pad_token_id=processor.tokenizer.pad_token_id,\n",
    "                    eos_token_id=processor.tokenizer.eos_token_id,\n",
    "                    use_cache=True,\n",
    "                    #num_beams=1,\n",
    "                    bad_words_ids=[[processor.tokenizer.unk_token_id]],\n",
    "                    return_dict_in_generate=True,               \n",
    "    )"
   ]
  },
  {
   "cell_type": "code",
   "execution_count": 53,
   "id": "a7d9d384",
   "metadata": {},
   "outputs": [
    {
     "data": {
      "text/plain": [
       "{'question': 'name?', 'answer': 'tom'}"
      ]
     },
     "execution_count": 53,
     "metadata": {},
     "output_type": "execute_result"
    }
   ],
   "source": [
    " # postprocess\n",
    "sequence = processor.batch_decode(outputs.sequences)[0]\n",
    "sequence = sequence.replace(processor.tokenizer.eos_token, \"\").replace(processor.tokenizer.pad_token, \"\")\n",
    "sequence = re.sub(r\"<.*?>\", \"\", sequence, count=1).strip()  # remove first task start token\n",
    "processor.token2json(sequence)"
   ]
  },
  {
   "cell_type": "code",
   "execution_count": null,
   "id": "e4d61a18",
   "metadata": {},
   "outputs": [],
   "source": []
  }
 ],
 "metadata": {
  "kernelspec": {
   "display_name": "marker_env",
   "language": "python",
   "name": "marker_env"
  },
  "language_info": {
   "codemirror_mode": {
    "name": "ipython",
    "version": 3
   },
   "file_extension": ".py",
   "mimetype": "text/x-python",
   "name": "python",
   "nbconvert_exporter": "python",
   "pygments_lexer": "ipython3",
   "version": "3.8.13"
  },
  "toc": {
   "base_numbering": 1,
   "nav_menu": {},
   "number_sections": true,
   "sideBar": true,
   "skip_h1_title": false,
   "title_cell": "Table of Contents",
   "title_sidebar": "Contents",
   "toc_cell": false,
   "toc_position": {},
   "toc_section_display": true,
   "toc_window_display": false
  }
 },
 "nbformat": 4,
 "nbformat_minor": 5
}
